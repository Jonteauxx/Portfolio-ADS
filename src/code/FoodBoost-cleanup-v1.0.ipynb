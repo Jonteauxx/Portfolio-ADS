{
 "cells": [
  {
   "cell_type": "code",
   "execution_count": 107,
   "id": "6d82ec84",
   "metadata": {},
   "outputs": [],
   "source": [
    "# import necessary libraries\n",
    "import numpy as np\n",
    "import pandas as pd\n",
    "import matplotlib as plt\n",
    "import random\n",
    "\n",
    "# available datasets\n",
    "recipes = pd.read_csv(\"/data/foodboost/recipes.csv\")\n",
    "ingredients = pd.read_csv(\"/data/foodboost/ingredients.csv\")\n",
    "nutritions = pd.read_csv(\"/data/foodboost/nutritions.csv\")\n",
    "tags = pd.read_csv(\"/data/foodboost/tags.csv\")\n",
    "\n",
    "# clean up data\n",
    "del recipes['Unnamed: 0']\n",
    "del ingredients['Unnamed: 0']\n",
    "del nutritions['Unnamed: 0']\n",
    "del tags['Unnamed: 0']\n",
    "recipes.title = recipes.title.str.replace('&nbsp;', ' ')\n",
    "ingredients.recipe = ingredients.recipe.str.replace('&nbsp;', ' ')\n",
    "nutritions.recipe = nutritions.recipe.str.replace('&nbsp;', ' ')\n",
    "tags.recipe = tags.recipe.str.replace('&nbsp;', ' ')\n",
    "recipes.title = recipes.title.str.replace('&amp;', 'en')\n",
    "ingredients.recipe = ingredients.recipe.str.replace('&amp;', 'en')\n",
    "nutritions.recipe = nutritions.recipe.str.replace('&amp;', 'en')\n",
    "tags.recipe = tags.recipe.str.replace('&amp;', 'en')\n",
    "tags.tag = tags.tag.str.replace('&amp;', 'en')"
   ]
  },
  {
   "cell_type": "code",
   "execution_count": 108,
   "id": "ff11346e",
   "metadata": {},
   "outputs": [
    {
     "name": "stdout",
     "output_type": "stream",
     "text": [
      "                                title  persons  time  calories  stars  \\\n",
      "0       Kruidnoten met choco-discodip        4    25       260      0   \n",
      "1             Kruidnoten in marsepein        4    25       265      0   \n",
      "2            Kruidnoten met chocodips        4    25       335      0   \n",
      "3  Pepernotentaart met marsepeinstrik       10    30       560      0   \n",
      "4                           Perencake       12    10       265      0   \n",
      "\n",
      "                                                 url  \\\n",
      "0  https://www.ah.nl/allerhande/recept/R-R1195893...   \n",
      "1  https://www.ah.nl/allerhande/recept/R-R1195892...   \n",
      "2  https://www.ah.nl/allerhande/recept/R-R1195891...   \n",
      "3  https://www.ah.nl/allerhande/recept/R-R1195887...   \n",
      "4  https://www.ah.nl/allerhande/recept/R-R1195790...   \n",
      "\n",
      "                                               image  \n",
      "0  https://static.ah.nl/static/recepten/img_RAM_P...  \n",
      "1  https://static.ah.nl/static/recepten/img_RAM_P...  \n",
      "2  https://static.ah.nl/static/recepten/img_RAM_P...  \n",
      "3  https://static.ah.nl/static/recepten/img_RAM_P...  \n",
      "4  https://static.ah.nl/static/recepten/img_RAM_P...   \n",
      "\n",
      "<class 'pandas.core.frame.DataFrame'>\n",
      "RangeIndex: 8706 entries, 0 to 8705\n",
      "Data columns (total 7 columns):\n",
      " #   Column    Non-Null Count  Dtype \n",
      "---  ------    --------------  ----- \n",
      " 0   title     8706 non-null   object\n",
      " 1   persons   8706 non-null   int64 \n",
      " 2   time      8706 non-null   int64 \n",
      " 3   calories  8706 non-null   int64 \n",
      " 4   stars     8706 non-null   int64 \n",
      " 5   url       8706 non-null   object\n",
      " 6   image     8706 non-null   object\n",
      "dtypes: int64(4), object(3)\n",
      "memory usage: 476.2+ KB\n",
      "None \n",
      "\n",
      "           persons         time     calories   stars\n",
      "count  8706.000000  8706.000000  8706.000000  8706.0\n",
      "mean      5.405697    22.093039   453.029405     0.0\n",
      "std       4.791495    13.387928   231.581738     0.0\n",
      "min       1.000000     1.000000     0.000000     0.0\n",
      "25%       4.000000    15.000000   270.000000     0.0\n",
      "50%       4.000000    20.000000   460.000000     0.0\n",
      "75%       4.000000    30.000000   615.000000     0.0\n",
      "max     100.000000   320.000000  3320.000000     0.0 \n",
      "\n",
      "(8706, 7) \n",
      "\n"
     ]
    }
   ],
   "source": [
    "# explore recipes dataset\n",
    "print(recipes.head(), \"\\n\")\n",
    "print(recipes.info(), \"\\n\")\n",
    "print(recipes.describe(), \"\\n\")\n",
    "print(recipes.shape, \"\\n\")"
   ]
  },
  {
   "cell_type": "code",
   "execution_count": 109,
   "id": "c5eb178f",
   "metadata": {},
   "outputs": [
    {
     "name": "stdout",
     "output_type": "stream",
     "text": [
      "                          recipe        nutrition     value\n",
      "0  Kruidnoten met choco-discodip          energie  260 kcal\n",
      "1  Kruidnoten met choco-discodip     koolhydraten      34 g\n",
      "2  Kruidnoten met choco-discodip  waarvan suikers      22 g\n",
      "3  Kruidnoten met choco-discodip          natrium    200 mg\n",
      "4  Kruidnoten met choco-discodip            eiwit       3 g \n",
      "\n",
      "<class 'pandas.core.frame.DataFrame'>\n",
      "RangeIndex: 58765 entries, 0 to 58764\n",
      "Data columns (total 3 columns):\n",
      " #   Column     Non-Null Count  Dtype \n",
      "---  ------     --------------  ----- \n",
      " 0   recipe     58765 non-null  object\n",
      " 1   nutrition  58765 non-null  object\n",
      " 2   value      58765 non-null  object\n",
      "dtypes: object(3)\n",
      "memory usage: 1.3+ MB\n",
      "None \n",
      "\n",
      "                                          recipe nutrition  value\n",
      "count                                      58765     58765  58765\n",
      "unique                                      8705         8   1192\n",
      "top     Broccolistamppot met noten en geitenkaas   energie    1 g\n",
      "freq                                          14      8706   2079 \n",
      "\n",
      "(58765, 3) \n",
      "\n"
     ]
    }
   ],
   "source": [
    "# explore nutritions dataset\n",
    "print(nutritions.head(), \"\\n\")\n",
    "print(nutritions.info(), \"\\n\")\n",
    "print(nutritions.describe(), \"\\n\")\n",
    "print(nutritions.shape, \"\\n\")"
   ]
  },
  {
   "cell_type": "code",
   "execution_count": 110,
   "id": "3937148d",
   "metadata": {},
   "outputs": [
    {
     "name": "stdout",
     "output_type": "stream",
     "text": [
      "                          recipe            ingredient  quantity unit\n",
      "0  Kruidnoten met choco-discodip         melkchocolade     100.0    g\n",
      "1  Kruidnoten met choco-discodip            kruidnoten     100.0    g\n",
      "2  Kruidnoten met choco-discodip              discodip       2.0   el\n",
      "3        Kruidnoten in marsepein      blanke marsepein     150.0    g\n",
      "4        Kruidnoten in marsepein  ongezouten roomboter      15.0    g \n",
      "\n",
      "<class 'pandas.core.frame.DataFrame'>\n",
      "RangeIndex: 71809 entries, 0 to 71808\n",
      "Data columns (total 4 columns):\n",
      " #   Column      Non-Null Count  Dtype  \n",
      "---  ------      --------------  -----  \n",
      " 0   recipe      71809 non-null  object \n",
      " 1   ingredient  71809 non-null  object \n",
      " 2   quantity    71809 non-null  float64\n",
      " 3   unit        57509 non-null  object \n",
      "dtypes: float64(1), object(3)\n",
      "memory usage: 2.2+ MB\n",
      "None \n",
      "\n",
      "           quantity\n",
      "count  71809.000000\n",
      "mean     106.405130\n",
      "std      173.488264\n",
      "min        0.050000\n",
      "25%        2.000000\n",
      "50%        5.000000\n",
      "75%      150.000000\n",
      "max     1550.000000 \n",
      "\n",
      "(71809, 4) \n",
      "\n"
     ]
    }
   ],
   "source": [
    "# explore ingredients dataset\n",
    "print(ingredients.head(), \"\\n\")\n",
    "print(ingredients.info(), \"\\n\")\n",
    "print(ingredients.describe(), \"\\n\")\n",
    "print(ingredients.shape, \"\\n\")"
   ]
  },
  {
   "cell_type": "code",
   "execution_count": 111,
   "id": "ad6f127b",
   "metadata": {
    "scrolled": true
   },
   "outputs": [
    {
     "name": "stdout",
     "output_type": "stream",
     "text": [
      "                          recipe               tag\n",
      "0  Kruidnoten met choco-discodip          hollands\n",
      "1  Kruidnoten met choco-discodip             gebak\n",
      "2  Kruidnoten met choco-discodip             gebak\n",
      "3  Kruidnoten met choco-discodip       sinterklaas\n",
      "4  Kruidnoten met choco-discodip  sinterklaasavond \n",
      "\n",
      "<class 'pandas.core.frame.DataFrame'>\n",
      "RangeIndex: 46040 entries, 0 to 46039\n",
      "Data columns (total 2 columns):\n",
      " #   Column  Non-Null Count  Dtype \n",
      "---  ------  --------------  ----- \n",
      " 0   recipe  46040 non-null  object\n",
      " 1   tag     46040 non-null  object\n",
      "dtypes: object(2)\n",
      "memory usage: 719.5+ KB\n",
      "None \n",
      "\n",
      "                recipe           tag\n",
      "count            46040         46040\n",
      "unique            8704           118\n",
      "top     Tomatentulpjes  hoofdgerecht\n",
      "freq                18          4595 \n",
      "\n",
      "(46040, 2) \n",
      "\n"
     ]
    }
   ],
   "source": [
    "# explore tags dataset\n",
    "print(tags.head(), \"\\n\")\n",
    "print(tags.info(), \"\\n\")\n",
    "print(tags.describe(), \"\\n\")\n",
    "print(tags.shape, \"\\n\")"
   ]
  },
  {
   "cell_type": "code",
   "execution_count": 112,
   "id": "8ad9db0a",
   "metadata": {},
   "outputs": [],
   "source": [
    "# select only vegetarian main dishes\n",
    "\n",
    "# voorbeeld filteren op tag\n",
    "hoofd_recipes = tags.loc[tags['tag'] == 'hoofdgerecht']\n",
    "hoofd_recipes = pd.merge(hoofd_recipes, tags, on='recipe', how='left')\n",
    "veg_recipes = hoofd_recipes.loc[hoofd_recipes['tag_y'] == 'vegetarisch']\n",
    "\n",
    "# simuleren:\n",
    "# geef persoon een nummer\n",
    "# geef 10 willekeurige recepten, allemaal Nederlands of allemaal Italiaans\n",
    "# herhaal tot we 50 van elk hebben"
   ]
  },
  {
   "cell_type": "code",
   "execution_count": 113,
   "id": "5537e410",
   "metadata": {},
   "outputs": [
    {
     "name": "stdout",
     "output_type": "stream",
     "text": [
      "['knoflook', 'sesamolie', 'tomato frito', 'gembersiroop', 'sojasaus', 'nasi-bamigroente', 'babymais uit blik', 'mienestje', 'middelgroot ei', 'kraanwater', 'Saitaku zwart sesamzaad geroosterd in strooier']\n"
     ]
    }
   ],
   "source": [
    "# merge veg_recipes and ingredients\n",
    "veg_ingredients = pd.merge(veg_recipes, ingredients, how='left')\n",
    "del veg_ingredients['tag_x']\n",
    "del veg_ingredients['tag_y']\n",
    "del veg_ingredients['quantity']\n",
    "del veg_ingredients['unit']\n",
    "\n",
    "\n",
    "\n",
    "# create recipe:[ingredients] dictionary\n",
    "veg_dict = {}\n",
    "test = veg_ingredients.groupby('recipe')['ingredient'].apply(list)\n",
    "for i in test.keys():\n",
    "    veg_dict[i] = test[i]\n",
    "print(veg_dict[\"'Foeyonghai' met bami\"])"
   ]
  },
  {
   "cell_type": "code",
   "execution_count": 114,
   "id": "5ffb99a6",
   "metadata": {},
   "outputs": [
    {
     "name": "stdout",
     "output_type": "stream",
     "text": [
      "                                            recipe          nutrition  \\\n",
      "0     Pasta pesto met kipstuckjes en tomatensalade            energie   \n",
      "1     Pasta pesto met kipstuckjes en tomatensalade       koolhydraten   \n",
      "2     Pasta pesto met kipstuckjes en tomatensalade    waarvan suikers   \n",
      "3     Pasta pesto met kipstuckjes en tomatensalade            natrium   \n",
      "4     Pasta pesto met kipstuckjes en tomatensalade              eiwit   \n",
      "...                                            ...                ...   \n",
      "4626                              Ovenpasta met ei            natrium   \n",
      "4627                              Ovenpasta met ei              eiwit   \n",
      "4628                              Ovenpasta met ei                vet   \n",
      "4629                              Ovenpasta met ei  waarvan verzadigd   \n",
      "4630                              Ovenpasta met ei             vezels   \n",
      "\n",
      "         value  \n",
      "0     770 kcal  \n",
      "1         63 g  \n",
      "2          9 g  \n",
      "3       640 mg  \n",
      "4         31 g  \n",
      "...        ...  \n",
      "4626   1055 mg  \n",
      "4627      26 g  \n",
      "4628      19 g  \n",
      "4629       7 g  \n",
      "4630      12 g  \n",
      "\n",
      "[4631 rows x 3 columns]\n"
     ]
    }
   ],
   "source": [
    "# merge veg_recipes and nutritions\n",
    "veg_nutritions = pd.merge(veg_recipes, nutritions, on='recipe', how='left')\n",
    "del veg_nutritions['tag_x']\n",
    "del veg_nutritions['tag_y']\n",
    "print(veg_nutritions)"
   ]
  },
  {
   "cell_type": "code",
   "execution_count": 115,
   "id": "2bd55cf3",
   "metadata": {
    "scrolled": true
   },
   "outputs": [
    {
     "name": "stdout",
     "output_type": "stream",
     "text": [
      "                                               recipe     value\n",
      "0        Pasta pesto met kipstuckjes en tomatensalade  770 kcal\n",
      "8           Hutspot met vegetarische rookworst en jus  535 kcal\n",
      "16  Zoete aardappelstamppot met spruiten en vega g...  595 kcal\n",
      "24   'Kapsalon' met vegetarische kipshoarma en salade  505 kcal\n",
      "32  Gebakken krieltjes met broccoli en vegetarisch...  535 kcal\n"
     ]
    }
   ],
   "source": [
    "# get calorie values\n",
    "veg_calories = veg_nutritions[veg_nutritions['nutrition'] == 'energie']\n",
    "del veg_calories['nutrition']\n",
    "print(veg_calories.head())"
   ]
  },
  {
   "cell_type": "code",
   "execution_count": 116,
   "id": "3d97e4b1",
   "metadata": {},
   "outputs": [
    {
     "name": "stdout",
     "output_type": "stream",
     "text": [
      "13              Hutspot met vegetarische rookworst en jus\n",
      "19      Zoete aardappelstamppot met spruiten en vega g...\n",
      "27       'Kapsalon' met vegetarische kipshoarma en salade\n",
      "30      Gebakken krieltjes met broccoli en vegetarisch...\n",
      "471                                         Gegrilde mais\n",
      "                              ...                        \n",
      "8150                              Luchtige aardappelpuree\n",
      "8177                             Rodekool met cranberry's\n",
      "8197                        Sterren van aardappel en biet\n",
      "8211                                  Hetebliksemtaartjes\n",
      "8295                       Puree met bloemkool en mosterd\n",
      "Name: recipe, Length: 147, dtype: object\n"
     ]
    }
   ],
   "source": [
    "# gebruikers simuleren\n",
    "\n",
    "# voorbeeld filteren op tag\n",
    "hoofd_recipes = tags.loc[tags['tag'] == 'vegetarisch']\n",
    "hoofd_recipes = pd.merge(hoofd_recipes, tags, on='recipe', how='left')\n",
    "hollandse_gerechten = hoofd_recipes.loc[hoofd_recipes['tag_y'] == 'hollands']\n",
    "print(hollandse_gerechten[\"recipe\"])"
   ]
  },
  {
   "cell_type": "code",
   "execution_count": 117,
   "id": "f917a5e2",
   "metadata": {},
   "outputs": [],
   "source": [
    "# voorbeeld filteren op tag\n",
    "hoofd_recipes = tags.loc[tags['tag'] == 'vegetarisch']\n",
    "hoofd_recipes = pd.merge(hoofd_recipes, tags, on='recipe', how='left')\n",
    "italiaanse_gerechten = hoofd_recipes['recipe']\n"
   ]
  },
  {
   "cell_type": "code",
   "execution_count": 154,
   "id": "ce44d0fa",
   "metadata": {},
   "outputs": [
    {
     "name": "stdout",
     "output_type": "stream",
     "text": [
      "3082: Nachoschotel met tomatenblokjes en geraspte kaas\n",
      "3082: Nachoschotel met tomatenblokjes en geraspte kaas\n",
      "4027: Taco's met vegagehakt en babymais\n",
      "3082: Nachoschotel met tomatenblokjes en geraspte kaas\n",
      "4027: Taco's met vegagehakt en babymais\n",
      "1306: Snelle chili sin carne met guacamole, bloemkoolrijst en gegrilde paprika\n",
      "3082: Nachoschotel met tomatenblokjes en geraspte kaas\n",
      "4027: Taco's met vegagehakt en babymais\n",
      "1306: Snelle chili sin carne met guacamole, bloemkoolrijst en gegrilde paprika\n",
      "1336: Vegetarische wraps uit de oven (tostada) met avocado\n",
      "3082: Nachoschotel met tomatenblokjes en geraspte kaas\n",
      "4027: Taco's met vegagehakt en babymais\n",
      "1306: Snelle chili sin carne met guacamole, bloemkoolrijst en gegrilde paprika\n",
      "1336: Vegetarische wraps uit de oven (tostada) met avocado\n",
      "3197: Filodeegloempia's uit de heteluchtfriteuse\n",
      "3082: Nachoschotel met tomatenblokjes en geraspte kaas\n",
      "4027: Taco's met vegagehakt en babymais\n",
      "1306: Snelle chili sin carne met guacamole, bloemkoolrijst en gegrilde paprika\n",
      "1336: Vegetarische wraps uit de oven (tostada) met avocado\n",
      "3197: Filodeegloempia's uit de heteluchtfriteuse\n",
      "5977: Yotam Ottolenghi's pompoen met chiliyoghurt en koriandersaus\n",
      "3082: Nachoschotel met tomatenblokjes en geraspte kaas\n",
      "4027: Taco's met vegagehakt en babymais\n",
      "1306: Snelle chili sin carne met guacamole, bloemkoolrijst en gegrilde paprika\n",
      "1336: Vegetarische wraps uit de oven (tostada) met avocado\n",
      "3197: Filodeegloempia's uit de heteluchtfriteuse\n",
      "5977: Yotam Ottolenghi's pompoen met chiliyoghurt en koriandersaus\n",
      "3921: Shakshuka met brood\n",
      "3082: Nachoschotel met tomatenblokjes en geraspte kaas\n",
      "4027: Taco's met vegagehakt en babymais\n",
      "1306: Snelle chili sin carne met guacamole, bloemkoolrijst en gegrilde paprika\n",
      "1336: Vegetarische wraps uit de oven (tostada) met avocado\n",
      "3197: Filodeegloempia's uit de heteluchtfriteuse\n",
      "5977: Yotam Ottolenghi's pompoen met chiliyoghurt en koriandersaus\n",
      "3921: Shakshuka met brood\n",
      "7876: Lentecouscous met geitenkaas\n",
      "3082: Nachoschotel met tomatenblokjes en geraspte kaas\n",
      "4027: Taco's met vegagehakt en babymais\n",
      "1306: Snelle chili sin carne met guacamole, bloemkoolrijst en gegrilde paprika\n",
      "1336: Vegetarische wraps uit de oven (tostada) met avocado\n",
      "3197: Filodeegloempia's uit de heteluchtfriteuse\n",
      "5977: Yotam Ottolenghi's pompoen met chiliyoghurt en koriandersaus\n",
      "3921: Shakshuka met brood\n",
      "7876: Lentecouscous met geitenkaas\n",
      "2957: Tomatentartaar op toast met ’n gepocheerd eitje\n",
      "3082: Nachoschotel met tomatenblokjes en geraspte kaas\n",
      "4027: Taco's met vegagehakt en babymais\n",
      "1306: Snelle chili sin carne met guacamole, bloemkoolrijst en gegrilde paprika\n",
      "1336: Vegetarische wraps uit de oven (tostada) met avocado\n",
      "3197: Filodeegloempia's uit de heteluchtfriteuse\n",
      "5977: Yotam Ottolenghi's pompoen met chiliyoghurt en koriandersaus\n",
      "3921: Shakshuka met brood\n",
      "7876: Lentecouscous met geitenkaas\n",
      "2957: Tomatentartaar op toast met ’n gepocheerd eitje\n",
      "7132: Voorjaarsgroentesoep met erwten\n"
     ]
    }
   ],
   "source": [
    "gebruiker=[]\n",
    "keuze_gerechten=[]\n",
    "gebruikers_input={}\n",
    "all_users=[]\n",
    "random.seed()\n",
    "\n",
    "#print(list(keuze_gerechten))\n",
    "\n",
    "for x in range(0,10): \n",
    "    for i in range(0, 100):\n",
    "        r = random.randrange(1, len(italiaanse_gerechten))\n",
    "        gebruiker.append(r)\n",
    "    for y in gebruiker:\n",
    "        keuze_gerechten.append(italiaanse_gerechten[y])\n",
    "    gebruikers_input = list(zip(gebruiker, keuze_gerechten))\n",
    "    all_users.insert(i, gebruikers_input[x])\n",
    "    for key, value in all_users:\n",
    "        print('{}: {}'.format(key, value))\n",
    "    \n",
    "\n",
    "\n"
   ]
  },
  {
   "cell_type": "code",
   "execution_count": null,
   "id": "7a8f693b",
   "metadata": {},
   "outputs": [],
   "source": []
  },
  {
   "cell_type": "code",
   "execution_count": null,
   "id": "24f651fa",
   "metadata": {},
   "outputs": [],
   "source": []
  },
  {
   "cell_type": "raw",
   "id": "462cb7e4",
   "metadata": {},
   "source": []
  },
  {
   "cell_type": "code",
   "execution_count": null,
   "id": "e85eb134",
   "metadata": {},
   "outputs": [],
   "source": []
  },
  {
   "cell_type": "code",
   "execution_count": null,
   "id": "0693fd83",
   "metadata": {},
   "outputs": [],
   "source": []
  },
  {
   "cell_type": "code",
   "execution_count": null,
   "id": "d1bf321b",
   "metadata": {},
   "outputs": [],
   "source": []
  },
  {
   "cell_type": "code",
   "execution_count": null,
   "id": "a5eb730d",
   "metadata": {},
   "outputs": [],
   "source": []
  },
  {
   "cell_type": "code",
   "execution_count": null,
   "id": "d2b37eb9",
   "metadata": {},
   "outputs": [],
   "source": []
  },
  {
   "cell_type": "code",
   "execution_count": null,
   "id": "06ad3625",
   "metadata": {},
   "outputs": [],
   "source": []
  },
  {
   "cell_type": "code",
   "execution_count": null,
   "id": "3bfb3f55",
   "metadata": {},
   "outputs": [],
   "source": []
  },
  {
   "cell_type": "code",
   "execution_count": null,
   "id": "cc8baa71",
   "metadata": {},
   "outputs": [],
   "source": []
  }
 ],
 "metadata": {
  "kernelspec": {
   "display_name": "Python 3 (ipykernel)",
   "language": "python",
   "name": "python3"
  },
  "language_info": {
   "codemirror_mode": {
    "name": "ipython",
    "version": 3
   },
   "file_extension": ".py",
   "mimetype": "text/x-python",
   "name": "python",
   "nbconvert_exporter": "python",
   "pygments_lexer": "ipython3",
   "version": "3.9.15"
  }
 },
 "nbformat": 4,
 "nbformat_minor": 5
}
